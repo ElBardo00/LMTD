{
 "cells": [
  {
   "cell_type": "markdown",
   "metadata": {},
   "source": [
    "# Diferencia Media Logaritmica de Temperatura (LMTD)"
   ]
  },
  {
   "cell_type": "markdown",
   "metadata": {},
   "source": [
    "La diferencia media logarítmica de temperatura está dada por la siguiente fórmula:\n",
    "\n",
    "$$ LMTD = \\frac{(T_{1}-t_{2}) - (T_{2}-t_{1})}{ln \\left(\\frac{T_{1}-t_{2}}{T_{2}-t_{1}}\\right)} $$\n",
    "\n",
    "$$ LMTD = \\frac{(\\Delta T_{1}) - (\\Delta T_{2})}{ln \\left(\\frac{\\Delta T_{1}}{\\Delta T_{2}}\\right)} $$\n",
    "\n",
    "Dejando de lado la teoría que acompaña a esta fórmula, la tarea es conseguir que con una $LMTD$ y una Temperatura de entrada $(T_{1})$ conocidas, obtener el resto de variables tales que LMTD se cumpla. \n",
    "\n",
    "Esto es con el objetivo de que se observe el cambio en el resto de variables conforme $T_{1}$ cambia y $LMTD$ permanece fija\n"
   ]
  },
  {
   "cell_type": "markdown",
   "metadata": {},
   "source": [
    "Para resolver el problema en cuestión, con ayuda de Python 3, se me ocurren dos opciones para afrontar el problema: \n",
    "\n",
    "1. **Métodos numéricos**\n",
    "2. **Probar con todas las permutaciones en un intervalo $[1-T_{1}]$**\n",
    "\n",
    "## Opción 1\n",
    "\n",
    "En un principio pensé que tal vez los métodos iterativos para encontrar la raíz de la ecuación no lineal funcionarían, pero una breve comprobación en Wolfram (no espero que sea  la opción más confiable y por ello recurro a usted) me arroja que la ecuación no posee una raíz calculable, además, por simple intuición creo que el uso de uno de estos métodos no es posible para dar con 3 variables introduciendo solo 2 valores conocidos, al menos no sin hacer algún tipo de transformación de la ecuación. Le consulto para saber si existe una opción desde los métodos numéricos o las matemáticas en general, para realizar la tarea. \n",
    "\n",
    "## Opción 2\n",
    "\n",
    "Está es quiza la opción que puedo empezar a desarrollar, el inconveniente es que las permutaciones crecen con el factorial de $T_{1}$ lo que es una solución poco económica en términos computacionales, que si bien, una computadora normal puede realizar, tal vez sea una solución un poco lenta y muy poco elegante. La ventaja es que los valores conocidos para $T_{1}$ no rebasan los 30°. Sin duda puedo reducir los cálculos introduciendo algunas restricciones. Por ahora planteo restringir las entradas al dominio de la ecuación."
   ]
  },
  {
   "cell_type": "markdown",
   "metadata": {},
   "source": [
    "## Solución manual"
   ]
  },
  {
   "cell_type": "markdown",
   "metadata": {},
   "source": [
    "He trabajado en una solución manual que satisface en cierta medida los requerimientos del problema. El objetivo ultimo, es que esta tarea se automatice.\n",
    "\n",
    "En el código de abajo se introducen las variables y se obtiene la $LMTD$ ademas de los deltas y una representación gráfica."
   ]
  },
  {
   "cell_type": "code",
   "execution_count": 1,
   "metadata": {},
   "outputs": [],
   "source": [
    "import numpy as np\n",
    "import matplotlib.pyplot as plt\n",
    "import pandas as pd\n",
    "from ipywidgets import interactive\n",
    "\n",
    "%matplotlib inline"
   ]
  },
  {
   "cell_type": "code",
   "execution_count": 2,
   "metadata": {},
   "outputs": [],
   "source": [
    "def Tml_contra(T_hs_in,T_hs_out, T_f_in, T_f_out):\n",
    "    delta_T1 = T_hs_in - T_f_out\n",
    "    delta_T2 = T_hs_out - T_f_in\n",
    "    \n",
    "    Tmlc = (delta_T1-delta_T2)/np.log(delta_T1/delta_T2)\n",
    "    \n",
    "    #Generación del gráfico\n",
    "    fig1, ax1 = plt.subplots()\n",
    "    ax1.plot([T_hs_out,T_hs_in], 'r--')\n",
    "    ax1.plot([T_f_in, T_f_out], 'b--')\n",
    "    ax1.set_ylabel(' T °C ', fontsize = 12)\n",
    "    \n",
    "    ax2 = ax1.twinx()\n",
    "    ax2.plot([T_hs_out,T_hs_in], 'r<', markersize = 8, label = 'Calor')\n",
    "    ax2.plot([T_f_in, T_f_out], 'b>', markersize = 8, label = 'Frijolito')\n",
    "    ax2.set_ylabel(' T °C ', fontsize = 12)\n",
    "  \n",
    "    ax2.annotate('Tmlc: '+str(round(Tmlc,2)),\n",
    "            xy=(0.3 , T_hs_in), xycoords='data',\n",
    "            xytext=(0.3, T_hs_in), textcoords='data')\n",
    "    ax2.legend()\n",
    "    \n",
    "    plt.title('Tml contra corriente')\n",
    "    plt.grid()\n",
    "    plt.xticks([])\n",
    "    plt.show()\n",
    "    \n",
    "    msg = f\"La TML es: {delta_T1} Delta T1 es:{delta_T1} Delta T2 es:{delta_T2}\"\n",
    "    msg1 = f\"La TML es: {Tmlc} Delta T1 es:{delta_T1} Delta T2 es:{delta_T2}\"\n",
    "\n",
    "    if delta_T1 == delta_T2:\n",
    "        return msg\n",
    "    else:\n",
    "        return msg1"
   ]
  },
  {
   "cell_type": "markdown",
   "metadata": {},
   "source": [
    "Donde:\n",
    "\n",
    "- Tml_contra = Tmlc = $LMTD$\n",
    "- T_hs_in = $T_{1}$\n",
    "- T_hs_out = $T_{2}$\n",
    "- T_f_in = $t_{1}$\n",
    "- T_f_out = $t_{2}$\n",
    "\n",
    "El objetivo es que mediante la introducción de valores diferentes de entrada (de manera manual) se obtuviera la $LMTD$ deseada.\n",
    "\n",
    "Como ejemplo, para una $LMTD$ deseada de $\\approx 5$ se realiza lo siguiente:\n",
    "\n",
    "$$ \\frac{(T_{1}-t_{2}) - (T_{2}-t_{1})}{ln \\left(\\frac{T_{1}-t_{2}}{T_{2}-t_{1}}\\right)} \\approx 5$$\n"
   ]
  },
  {
   "cell_type": "code",
   "execution_count": 3,
   "metadata": {},
   "outputs": [
    {
     "data": {
      "image/png": "[encoded data removed]",
      "text/plain": [
       "<Figure size 432x288 with 2 Axes>"
      ]
     },
     "metadata": {
      "needs_background": "light"
     },
     "output_type": "display_data"
    },
    {
     "data": {
      "text/plain": [
       "'La TML es: 5.360820878674329 Delta T1 es:4 Delta T2 es:7'"
      ]
     },
     "execution_count": 3,
     "metadata": {},
     "output_type": "execute_result"
    }
   ],
   "source": [
    "T_hs_in = 26\n",
    "T_hs_out = 15\n",
    "\n",
    "T_f_in = 8\n",
    "T_f_out = 22\n",
    "\n",
    "Tml_contra(T_hs_in,T_hs_out, T_f_in, T_f_out)"
   ]
  },
  {
   "cell_type": "markdown",
   "metadata": {},
   "source": [
    "## Solución interactiva"
   ]
  },
  {
   "cell_type": "markdown",
   "metadata": {},
   "source": [
    "Tratando de hacer más facil el procedimiento anterior, propuse tambien la solución interactiva de la ecuación como se muestra a continuación."
   ]
  },
  {
   "cell_type": "code",
   "execution_count": 4,
   "metadata": {
    "scrolled": false
   },
   "outputs": [
    {
     "data": {
      "application/vnd.jupyter.widget-view+json": {
       "model_id": "5f7faa36b9304cbf9cbe4ab3921749c8",
       "version_major": 2,
       "version_minor": 0
      },
      "text/plain": [
       "interactive(children=(FloatSlider(value=13.0, description='T_hs_in', max=26.0, min=1.0, step=0.5), FloatSlider…"
      ]
     },
     "metadata": {},
     "output_type": "display_data"
    }
   ],
   "source": [
    "ejemplo = interactive(Tml_contra, T_hs_in = (1,26, 0.5),\n",
    "                      T_hs_out = (1,25, 0.5), T_f_in=(1,24, 0.5),\n",
    "                      T_f_out = (1,23, 0.5))\n",
    "ejemplo\n",
    "display(ejemplo)"
   ]
  },
  {
   "cell_type": "markdown",
   "metadata": {},
   "source": [
    "## Valores de entrada"
   ]
  },
  {
   "cell_type": "code",
   "execution_count": 5,
   "metadata": {},
   "outputs": [],
   "source": [
    "df = pd.read_csv('ejemplo.csv')"
   ]
  },
  {
   "cell_type": "code",
   "execution_count": 6,
   "metadata": {},
   "outputs": [
    {
     "data": {
      "text/html": [
       "<div>\n",
       "<style scoped>\n",
       "    .dataframe tbody tr th:only-of-type {\n",
       "        vertical-align: middle;\n",
       "    }\n",
       "\n",
       "    .dataframe tbody tr th {\n",
       "        vertical-align: top;\n",
       "    }\n",
       "\n",
       "    .dataframe thead th {\n",
       "        text-align: right;\n",
       "    }\n",
       "</style>\n",
       "<table border=\"1\" class=\"dataframe\">\n",
       "  <thead>\n",
       "    <tr style=\"text-align: right;\">\n",
       "      <th></th>\n",
       "      <th>Mes</th>\n",
       "      <th>Ts</th>\n",
       "      <th>T_700</th>\n",
       "      <th>Delta_T</th>\n",
       "    </tr>\n",
       "  </thead>\n",
       "  <tbody>\n",
       "    <tr>\n",
       "      <th>0</th>\n",
       "      <td>1</td>\n",
       "      <td>27.116372</td>\n",
       "      <td>5.812999</td>\n",
       "      <td>21.303374</td>\n",
       "    </tr>\n",
       "    <tr>\n",
       "      <th>1</th>\n",
       "      <td>2</td>\n",
       "      <td>26.772363</td>\n",
       "      <td>5.784035</td>\n",
       "      <td>20.988328</td>\n",
       "    </tr>\n",
       "    <tr>\n",
       "      <th>2</th>\n",
       "      <td>3</td>\n",
       "      <td>26.920625</td>\n",
       "      <td>5.758427</td>\n",
       "      <td>21.162198</td>\n",
       "    </tr>\n",
       "    <tr>\n",
       "      <th>3</th>\n",
       "      <td>4</td>\n",
       "      <td>27.449325</td>\n",
       "      <td>5.735544</td>\n",
       "      <td>21.713781</td>\n",
       "    </tr>\n",
       "    <tr>\n",
       "      <th>4</th>\n",
       "      <td>5</td>\n",
       "      <td>28.325766</td>\n",
       "      <td>5.715167</td>\n",
       "      <td>22.610599</td>\n",
       "    </tr>\n",
       "    <tr>\n",
       "      <th>5</th>\n",
       "      <td>6</td>\n",
       "      <td>28.641716</td>\n",
       "      <td>5.690727</td>\n",
       "      <td>22.950990</td>\n",
       "    </tr>\n",
       "    <tr>\n",
       "      <th>6</th>\n",
       "      <td>7</td>\n",
       "      <td>29.019432</td>\n",
       "      <td>5.666853</td>\n",
       "      <td>23.352579</td>\n",
       "    </tr>\n",
       "    <tr>\n",
       "      <th>7</th>\n",
       "      <td>8</td>\n",
       "      <td>29.486995</td>\n",
       "      <td>5.643587</td>\n",
       "      <td>23.843408</td>\n",
       "    </tr>\n",
       "    <tr>\n",
       "      <th>8</th>\n",
       "      <td>9</td>\n",
       "      <td>29.763971</td>\n",
       "      <td>5.618978</td>\n",
       "      <td>24.144993</td>\n",
       "    </tr>\n",
       "    <tr>\n",
       "      <th>9</th>\n",
       "      <td>10</td>\n",
       "      <td>29.510811</td>\n",
       "      <td>5.590784</td>\n",
       "      <td>23.920028</td>\n",
       "    </tr>\n",
       "    <tr>\n",
       "      <th>10</th>\n",
       "      <td>11</td>\n",
       "      <td>28.728670</td>\n",
       "      <td>5.558681</td>\n",
       "      <td>23.169990</td>\n",
       "    </tr>\n",
       "    <tr>\n",
       "      <th>11</th>\n",
       "      <td>12</td>\n",
       "      <td>27.888048</td>\n",
       "      <td>5.526232</td>\n",
       "      <td>22.361815</td>\n",
       "    </tr>\n",
       "  </tbody>\n",
       "</table>\n",
       "</div>"
      ],
      "text/plain": [
       "    Mes         Ts     T_700    Delta_T\n",
       "0     1  27.116372  5.812999  21.303374\n",
       "1     2  26.772363  5.784035  20.988328\n",
       "2     3  26.920625  5.758427  21.162198\n",
       "3     4  27.449325  5.735544  21.713781\n",
       "4     5  28.325766  5.715167  22.610599\n",
       "5     6  28.641716  5.690727  22.950990\n",
       "6     7  29.019432  5.666853  23.352579\n",
       "7     8  29.486995  5.643587  23.843408\n",
       "8     9  29.763971  5.618978  24.144993\n",
       "9    10  29.510811  5.590784  23.920028\n",
       "10   11  28.728670  5.558681  23.169990\n",
       "11   12  27.888048  5.526232  22.361815"
      ]
     },
     "execution_count": 6,
     "metadata": {},
     "output_type": "execute_result"
    }
   ],
   "source": [
    "df"
   ]
  },
  {
   "cell_type": "markdown",
   "metadata": {},
   "source": [
    "## Generación de valores resultantes mediante operaciones aritmeticas"
   ]
  },
  {
   "cell_type": "markdown",
   "metadata": {},
   "source": [
    "Con los resultados de la solución interactiva, simplemente se realizan algunas operaciones aritmeticas al valor de entrada. En este casó se usará la columna del DataFrame con la etiqueta $Ts$. Esta columna representara los valores conocidos para $T_{1}$ y a la que se le harán operaciones para generar $T_{2}, \\,  t_{1} \\, \\& \\,  t_{2}$"
   ]
  },
  {
   "cell_type": "code",
   "execution_count": 7,
   "metadata": {},
   "outputs": [],
   "source": [
    "df['T2'] = df['Ts'].values - 8.5\n",
    "df['t1'] = df['Ts'].values - 14.0\n",
    "df['t2'] = df['Ts'].values - 5.0"
   ]
  },
  {
   "cell_type": "code",
   "execution_count": 8,
   "metadata": {},
   "outputs": [
    {
     "data": {
      "text/html": [
       "<div>\n",
       "<style scoped>\n",
       "    .dataframe tbody tr th:only-of-type {\n",
       "        vertical-align: middle;\n",
       "    }\n",
       "\n",
       "    .dataframe tbody tr th {\n",
       "        vertical-align: top;\n",
       "    }\n",
       "\n",
       "    .dataframe thead th {\n",
       "        text-align: right;\n",
       "    }\n",
       "</style>\n",
       "<table border=\"1\" class=\"dataframe\">\n",
       "  <thead>\n",
       "    <tr style=\"text-align: right;\">\n",
       "      <th></th>\n",
       "      <th>Mes</th>\n",
       "      <th>Ts</th>\n",
       "      <th>T_700</th>\n",
       "      <th>Delta_T</th>\n",
       "      <th>T2</th>\n",
       "      <th>t1</th>\n",
       "      <th>t2</th>\n",
       "    </tr>\n",
       "  </thead>\n",
       "  <tbody>\n",
       "    <tr>\n",
       "      <th>0</th>\n",
       "      <td>1</td>\n",
       "      <td>27.116372</td>\n",
       "      <td>5.812999</td>\n",
       "      <td>21.303374</td>\n",
       "      <td>18.616372</td>\n",
       "      <td>13.116372</td>\n",
       "      <td>22.116372</td>\n",
       "    </tr>\n",
       "    <tr>\n",
       "      <th>1</th>\n",
       "      <td>2</td>\n",
       "      <td>26.772363</td>\n",
       "      <td>5.784035</td>\n",
       "      <td>20.988328</td>\n",
       "      <td>18.272363</td>\n",
       "      <td>12.772363</td>\n",
       "      <td>21.772363</td>\n",
       "    </tr>\n",
       "    <tr>\n",
       "      <th>2</th>\n",
       "      <td>3</td>\n",
       "      <td>26.920625</td>\n",
       "      <td>5.758427</td>\n",
       "      <td>21.162198</td>\n",
       "      <td>18.420625</td>\n",
       "      <td>12.920625</td>\n",
       "      <td>21.920625</td>\n",
       "    </tr>\n",
       "    <tr>\n",
       "      <th>3</th>\n",
       "      <td>4</td>\n",
       "      <td>27.449325</td>\n",
       "      <td>5.735544</td>\n",
       "      <td>21.713781</td>\n",
       "      <td>18.949325</td>\n",
       "      <td>13.449325</td>\n",
       "      <td>22.449325</td>\n",
       "    </tr>\n",
       "    <tr>\n",
       "      <th>4</th>\n",
       "      <td>5</td>\n",
       "      <td>28.325766</td>\n",
       "      <td>5.715167</td>\n",
       "      <td>22.610599</td>\n",
       "      <td>19.825766</td>\n",
       "      <td>14.325766</td>\n",
       "      <td>23.325766</td>\n",
       "    </tr>\n",
       "    <tr>\n",
       "      <th>5</th>\n",
       "      <td>6</td>\n",
       "      <td>28.641716</td>\n",
       "      <td>5.690727</td>\n",
       "      <td>22.950990</td>\n",
       "      <td>20.141716</td>\n",
       "      <td>14.641716</td>\n",
       "      <td>23.641716</td>\n",
       "    </tr>\n",
       "    <tr>\n",
       "      <th>6</th>\n",
       "      <td>7</td>\n",
       "      <td>29.019432</td>\n",
       "      <td>5.666853</td>\n",
       "      <td>23.352579</td>\n",
       "      <td>20.519432</td>\n",
       "      <td>15.019432</td>\n",
       "      <td>24.019432</td>\n",
       "    </tr>\n",
       "    <tr>\n",
       "      <th>7</th>\n",
       "      <td>8</td>\n",
       "      <td>29.486995</td>\n",
       "      <td>5.643587</td>\n",
       "      <td>23.843408</td>\n",
       "      <td>20.986995</td>\n",
       "      <td>15.486995</td>\n",
       "      <td>24.486995</td>\n",
       "    </tr>\n",
       "    <tr>\n",
       "      <th>8</th>\n",
       "      <td>9</td>\n",
       "      <td>29.763971</td>\n",
       "      <td>5.618978</td>\n",
       "      <td>24.144993</td>\n",
       "      <td>21.263971</td>\n",
       "      <td>15.763971</td>\n",
       "      <td>24.763971</td>\n",
       "    </tr>\n",
       "    <tr>\n",
       "      <th>9</th>\n",
       "      <td>10</td>\n",
       "      <td>29.510811</td>\n",
       "      <td>5.590784</td>\n",
       "      <td>23.920028</td>\n",
       "      <td>21.010811</td>\n",
       "      <td>15.510811</td>\n",
       "      <td>24.510811</td>\n",
       "    </tr>\n",
       "    <tr>\n",
       "      <th>10</th>\n",
       "      <td>11</td>\n",
       "      <td>28.728670</td>\n",
       "      <td>5.558681</td>\n",
       "      <td>23.169990</td>\n",
       "      <td>20.228670</td>\n",
       "      <td>14.728670</td>\n",
       "      <td>23.728670</td>\n",
       "    </tr>\n",
       "    <tr>\n",
       "      <th>11</th>\n",
       "      <td>12</td>\n",
       "      <td>27.888048</td>\n",
       "      <td>5.526232</td>\n",
       "      <td>22.361815</td>\n",
       "      <td>19.388048</td>\n",
       "      <td>13.888048</td>\n",
       "      <td>22.888048</td>\n",
       "    </tr>\n",
       "  </tbody>\n",
       "</table>\n",
       "</div>"
      ],
      "text/plain": [
       "    Mes         Ts     T_700    Delta_T         T2         t1         t2\n",
       "0     1  27.116372  5.812999  21.303374  18.616372  13.116372  22.116372\n",
       "1     2  26.772363  5.784035  20.988328  18.272363  12.772363  21.772363\n",
       "2     3  26.920625  5.758427  21.162198  18.420625  12.920625  21.920625\n",
       "3     4  27.449325  5.735544  21.713781  18.949325  13.449325  22.449325\n",
       "4     5  28.325766  5.715167  22.610599  19.825766  14.325766  23.325766\n",
       "5     6  28.641716  5.690727  22.950990  20.141716  14.641716  23.641716\n",
       "6     7  29.019432  5.666853  23.352579  20.519432  15.019432  24.019432\n",
       "7     8  29.486995  5.643587  23.843408  20.986995  15.486995  24.486995\n",
       "8     9  29.763971  5.618978  24.144993  21.263971  15.763971  24.763971\n",
       "9    10  29.510811  5.590784  23.920028  21.010811  15.510811  24.510811\n",
       "10   11  28.728670  5.558681  23.169990  20.228670  14.728670  23.728670\n",
       "11   12  27.888048  5.526232  22.361815  19.388048  13.888048  22.888048"
      ]
     },
     "execution_count": 8,
     "metadata": {},
     "output_type": "execute_result"
    }
   ],
   "source": [
    "df"
   ]
  },
  {
   "cell_type": "markdown",
   "metadata": {},
   "source": [
    "## Comprobación"
   ]
  },
  {
   "cell_type": "markdown",
   "metadata": {},
   "source": [
    "Introduciendo los valores generados en una función que calcule la $LMTD$ podemos comprobar si la solución es adecuada."
   ]
  },
  {
   "cell_type": "markdown",
   "metadata": {},
   "source": [
    "### Función para calcular LMTD"
   ]
  },
  {
   "cell_type": "code",
   "execution_count": 9,
   "metadata": {},
   "outputs": [],
   "source": [
    "def LMTD(T1,T2,t1, t2):\n",
    "    delta_T1 = T1 - t2\n",
    "    delta_T2 = T2 - t1\n",
    "    \n",
    "    try:\n",
    "        Tmlc = (delta_T1-delta_T2)/np.log(delta_T1/delta_T2)\n",
    "    except:\n",
    "        return NaN\n",
    "    \n",
    "    if delta_T1.any() == delta_T2.any():\n",
    "        return delta_T1\n",
    "    else:\n",
    "        return Tmlc"
   ]
  },
  {
   "cell_type": "markdown",
   "metadata": {},
   "source": [
    "### Comprobación"
   ]
  },
  {
   "cell_type": "code",
   "execution_count": 10,
   "metadata": {},
   "outputs": [],
   "source": [
    "T1,T2,t1,t2 = df['Ts'].values, df['T2'].values, df['t1'].values, df['t2'].values\n",
    "\n",
    "df['LMTD'] = LMTD(T1,T2,t1,t2)"
   ]
  },
  {
   "cell_type": "code",
   "execution_count": 11,
   "metadata": {
    "scrolled": true
   },
   "outputs": [
    {
     "data": {
      "text/html": [
       "<div>\n",
       "<style scoped>\n",
       "    .dataframe tbody tr th:only-of-type {\n",
       "        vertical-align: middle;\n",
       "    }\n",
       "\n",
       "    .dataframe tbody tr th {\n",
       "        vertical-align: top;\n",
       "    }\n",
       "\n",
       "    .dataframe thead th {\n",
       "        text-align: right;\n",
       "    }\n",
       "</style>\n",
       "<table border=\"1\" class=\"dataframe\">\n",
       "  <thead>\n",
       "    <tr style=\"text-align: right;\">\n",
       "      <th></th>\n",
       "      <th>Mes</th>\n",
       "      <th>Ts</th>\n",
       "      <th>T_700</th>\n",
       "      <th>Delta_T</th>\n",
       "      <th>T2</th>\n",
       "      <th>t1</th>\n",
       "      <th>t2</th>\n",
       "      <th>LMTD</th>\n",
       "    </tr>\n",
       "  </thead>\n",
       "  <tbody>\n",
       "    <tr>\n",
       "      <th>0</th>\n",
       "      <td>1</td>\n",
       "      <td>27.116372</td>\n",
       "      <td>5.812999</td>\n",
       "      <td>21.303374</td>\n",
       "      <td>18.616372</td>\n",
       "      <td>13.116372</td>\n",
       "      <td>22.116372</td>\n",
       "      <td>5.0</td>\n",
       "    </tr>\n",
       "    <tr>\n",
       "      <th>1</th>\n",
       "      <td>2</td>\n",
       "      <td>26.772363</td>\n",
       "      <td>5.784035</td>\n",
       "      <td>20.988328</td>\n",
       "      <td>18.272363</td>\n",
       "      <td>12.772363</td>\n",
       "      <td>21.772363</td>\n",
       "      <td>5.0</td>\n",
       "    </tr>\n",
       "    <tr>\n",
       "      <th>2</th>\n",
       "      <td>3</td>\n",
       "      <td>26.920625</td>\n",
       "      <td>5.758427</td>\n",
       "      <td>21.162198</td>\n",
       "      <td>18.420625</td>\n",
       "      <td>12.920625</td>\n",
       "      <td>21.920625</td>\n",
       "      <td>5.0</td>\n",
       "    </tr>\n",
       "    <tr>\n",
       "      <th>3</th>\n",
       "      <td>4</td>\n",
       "      <td>27.449325</td>\n",
       "      <td>5.735544</td>\n",
       "      <td>21.713781</td>\n",
       "      <td>18.949325</td>\n",
       "      <td>13.449325</td>\n",
       "      <td>22.449325</td>\n",
       "      <td>5.0</td>\n",
       "    </tr>\n",
       "    <tr>\n",
       "      <th>4</th>\n",
       "      <td>5</td>\n",
       "      <td>28.325766</td>\n",
       "      <td>5.715167</td>\n",
       "      <td>22.610599</td>\n",
       "      <td>19.825766</td>\n",
       "      <td>14.325766</td>\n",
       "      <td>23.325766</td>\n",
       "      <td>5.0</td>\n",
       "    </tr>\n",
       "    <tr>\n",
       "      <th>5</th>\n",
       "      <td>6</td>\n",
       "      <td>28.641716</td>\n",
       "      <td>5.690727</td>\n",
       "      <td>22.950990</td>\n",
       "      <td>20.141716</td>\n",
       "      <td>14.641716</td>\n",
       "      <td>23.641716</td>\n",
       "      <td>5.0</td>\n",
       "    </tr>\n",
       "    <tr>\n",
       "      <th>6</th>\n",
       "      <td>7</td>\n",
       "      <td>29.019432</td>\n",
       "      <td>5.666853</td>\n",
       "      <td>23.352579</td>\n",
       "      <td>20.519432</td>\n",
       "      <td>15.019432</td>\n",
       "      <td>24.019432</td>\n",
       "      <td>5.0</td>\n",
       "    </tr>\n",
       "    <tr>\n",
       "      <th>7</th>\n",
       "      <td>8</td>\n",
       "      <td>29.486995</td>\n",
       "      <td>5.643587</td>\n",
       "      <td>23.843408</td>\n",
       "      <td>20.986995</td>\n",
       "      <td>15.486995</td>\n",
       "      <td>24.486995</td>\n",
       "      <td>5.0</td>\n",
       "    </tr>\n",
       "    <tr>\n",
       "      <th>8</th>\n",
       "      <td>9</td>\n",
       "      <td>29.763971</td>\n",
       "      <td>5.618978</td>\n",
       "      <td>24.144993</td>\n",
       "      <td>21.263971</td>\n",
       "      <td>15.763971</td>\n",
       "      <td>24.763971</td>\n",
       "      <td>5.0</td>\n",
       "    </tr>\n",
       "    <tr>\n",
       "      <th>9</th>\n",
       "      <td>10</td>\n",
       "      <td>29.510811</td>\n",
       "      <td>5.590784</td>\n",
       "      <td>23.920028</td>\n",
       "      <td>21.010811</td>\n",
       "      <td>15.510811</td>\n",
       "      <td>24.510811</td>\n",
       "      <td>5.0</td>\n",
       "    </tr>\n",
       "    <tr>\n",
       "      <th>10</th>\n",
       "      <td>11</td>\n",
       "      <td>28.728670</td>\n",
       "      <td>5.558681</td>\n",
       "      <td>23.169990</td>\n",
       "      <td>20.228670</td>\n",
       "      <td>14.728670</td>\n",
       "      <td>23.728670</td>\n",
       "      <td>5.0</td>\n",
       "    </tr>\n",
       "    <tr>\n",
       "      <th>11</th>\n",
       "      <td>12</td>\n",
       "      <td>27.888048</td>\n",
       "      <td>5.526232</td>\n",
       "      <td>22.361815</td>\n",
       "      <td>19.388048</td>\n",
       "      <td>13.888048</td>\n",
       "      <td>22.888048</td>\n",
       "      <td>5.0</td>\n",
       "    </tr>\n",
       "  </tbody>\n",
       "</table>\n",
       "</div>"
      ],
      "text/plain": [
       "    Mes         Ts     T_700    Delta_T         T2         t1         t2  LMTD\n",
       "0     1  27.116372  5.812999  21.303374  18.616372  13.116372  22.116372   5.0\n",
       "1     2  26.772363  5.784035  20.988328  18.272363  12.772363  21.772363   5.0\n",
       "2     3  26.920625  5.758427  21.162198  18.420625  12.920625  21.920625   5.0\n",
       "3     4  27.449325  5.735544  21.713781  18.949325  13.449325  22.449325   5.0\n",
       "4     5  28.325766  5.715167  22.610599  19.825766  14.325766  23.325766   5.0\n",
       "5     6  28.641716  5.690727  22.950990  20.141716  14.641716  23.641716   5.0\n",
       "6     7  29.019432  5.666853  23.352579  20.519432  15.019432  24.019432   5.0\n",
       "7     8  29.486995  5.643587  23.843408  20.986995  15.486995  24.486995   5.0\n",
       "8     9  29.763971  5.618978  24.144993  21.263971  15.763971  24.763971   5.0\n",
       "9    10  29.510811  5.590784  23.920028  21.010811  15.510811  24.510811   5.0\n",
       "10   11  28.728670  5.558681  23.169990  20.228670  14.728670  23.728670   5.0\n",
       "11   12  27.888048  5.526232  22.361815  19.388048  13.888048  22.888048   5.0"
      ]
     },
     "execution_count": 11,
     "metadata": {},
     "output_type": "execute_result"
    }
   ],
   "source": [
    "df"
   ]
  },
  {
   "cell_type": "code",
   "execution_count": 15,
   "metadata": {},
   "outputs": [
    {
     "name": "stdout",
     "output_type": "stream",
     "text": [
      "The watermark extension is already loaded. To reload it, use:\n",
      "  %reload_ext watermark\n",
      "CPython 3.7.6\n",
      "IPython 7.12.0\n",
      "\n",
      "matplotlib 3.1.3\n",
      "pandas 1.0.1\n",
      "numpy 1.18.1\n",
      "ipywidgets 7.5.1\n",
      "\n",
      "compiler   : MSC v.1916 64 bit (AMD64)\n",
      "system     : Windows\n",
      "release    : 10\n",
      "machine    : AMD64\n",
      "processor  : Intel64 Family 6 Model 142 Stepping 9, GenuineIntel\n",
      "CPU cores  : 4\n",
      "interpreter: 64bit\n"
     ]
    }
   ],
   "source": [
    "%load_ext watermark\n",
    "\n",
    "%watermark -v -m -p matplotlib,pandas,numpy,ipywidgets,watermark"
   ]
  },
  {
   "cell_type": "code",
   "execution_count": 13,
   "metadata": {},
   "outputs": [
    {
     "name": "stdout",
     "output_type": "stream",
     "text": [
      "1.18.1\n"
     ]
    }
   ],
   "source": []
  },
  {
   "cell_type": "code",
   "execution_count": null,
   "metadata": {},
   "outputs": [],
   "source": []
  }
 ],
 "metadata": {
  "kernelspec": {
   "display_name": "Python 3",
   "language": "python",
   "name": "python3"
  },
  "language_info": {
   "codemirror_mode": {
    "name": "ipython",
    "version": 3
   },
   "file_extension": ".py",
   "mimetype": "text/x-python",
   "name": "python",
   "nbconvert_exporter": "python",
   "pygments_lexer": "ipython3",
   "version": "3.7.6"
  },
  "widgets": {
   "application/vnd.jupyter.widget-state+json": {
    "state": {
     "00fe51cbe71246adbbc7ae2d925e9519": {
      "model_module": "@jupyter-widgets/controls",
      "model_module_version": "1.5.0",
      "model_name": "FloatSliderModel",
      "state": {
       "description": "T_hs_out",
       "layout": "IPY_MODEL_672e9d1c7e6b49709dd8acef95eab6bd",
       "max": 25,
       "min": 1,
       "step": 0.5,
       "style": "IPY_MODEL_c6ad25492d73468195064b63415c79d4",
       "value": 18.5
      }
     },
     "010a66942b154a26ad83a7a561a8e6e6": {
      "model_module": "@jupyter-widgets/controls",
      "model_module_version": "1.5.0",
      "model_name": "SliderStyleModel",
      "state": {
       "description_width": ""
      }
     },
     "0f04e431d04e4cf481f1fc55e20f2824": {
      "model_module": "@jupyter-widgets/controls",
      "model_module_version": "1.5.0",
      "model_name": "FloatSliderModel",
      "state": {
       "description": "T_hs_out",
       "layout": "IPY_MODEL_2ddaee90362e4fe5932e8f9d9bf5fd39",
       "max": 25,
       "min": 1,
       "step": 0.5,
       "style": "IPY_MODEL_875ea622672f42dd942e698e20c34c6d",
       "value": 17.5
      }
     },
     "1947878e2a3b49bab33ee3e755c7d7f3": {
      "model_module": "@jupyter-widgets/base",
      "model_module_version": "1.2.0",
      "model_name": "LayoutModel",
      "state": {}
     },
     "1c383c6eebe346f9987bc4c8e1ddd9f7": {
      "model_module": "@jupyter-widgets/controls",
      "model_module_version": "1.5.0",
      "model_name": "SliderStyleModel",
      "state": {
       "description_width": ""
      }
     },
     "203f855762ef45f6b3b3ed220420b804": {
      "model_module": "@jupyter-widgets/base",
      "model_module_version": "1.2.0",
      "model_name": "LayoutModel",
      "state": {}
     },
     "28023a0f1922453eb6ede9d851cfd81b": {
      "model_module": "@jupyter-widgets/base",
      "model_module_version": "1.2.0",
      "model_name": "LayoutModel",
      "state": {}
     },
     "28cbd1447c2d45b387f2e531e219f500": {
      "model_module": "@jupyter-widgets/base",
      "model_module_version": "1.2.0",
      "model_name": "LayoutModel",
      "state": {}
     },
     "2b6c48e154a64050a8883b3aedea0a94": {
      "model_module": "@jupyter-widgets/base",
      "model_module_version": "1.2.0",
      "model_name": "LayoutModel",
      "state": {}
     },
     "2ddaee90362e4fe5932e8f9d9bf5fd39": {
      "model_module": "@jupyter-widgets/base",
      "model_module_version": "1.2.0",
      "model_name": "LayoutModel",
      "state": {}
     },
     "34faf453d2a440dd80031f1d8eda3b33": {
      "model_module": "@jupyter-widgets/output",
      "model_module_version": "1.0.0",
      "model_name": "OutputModel",
      "state": {
       "layout": "IPY_MODEL_65c79a698abf4aca949468a96989d166",
       "outputs": [
        {
         "data": {
          "image/png": "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\n",
          "text/plain": "<Figure size 432x288 with 2 Axes>"
         },
         "metadata": {
          "needs_background": "light"
         },
         "output_type": "display_data"
        }
       ]
      }
     },
     "3a001a6f850240569e84a88b0fc73f05": {
      "model_module": "@jupyter-widgets/base",
      "model_module_version": "1.2.0",
      "model_name": "LayoutModel",
      "state": {}
     },
     "3ddff4b64f384279a1f50db7f5162821": {
      "model_module": "@jupyter-widgets/controls",
      "model_module_version": "1.5.0",
      "model_name": "FloatSliderModel",
      "state": {
       "description": "T_f_out",
       "layout": "IPY_MODEL_d8e06f72fa8a48c69da3b1b684d24e8c",
       "max": 23,
       "min": 1,
       "step": 0.5,
       "style": "IPY_MODEL_4f27fd87f1c74dd6bba2f02ceab16597",
       "value": 21
      }
     },
     "3fb1326f2d5a401ab74ae9afff05af86": {
      "model_module": "@jupyter-widgets/controls",
      "model_module_version": "1.5.0",
      "model_name": "SliderStyleModel",
      "state": {
       "description_width": ""
      }
     },
     "3fdd0c3628494b7ab05b3b30f6dfc72a": {
      "model_module": "@jupyter-widgets/controls",
      "model_module_version": "1.5.0",
      "model_name": "FloatSliderModel",
      "state": {
       "description": "T_hs_out",
       "layout": "IPY_MODEL_415a5c3047164cd58093e248dc251961",
       "max": 25,
       "min": 1,
       "step": 0.5,
       "style": "IPY_MODEL_3fb1326f2d5a401ab74ae9afff05af86",
       "value": 18.5
      }
     },
     "406d33ac608447e39ed11a932b37f42f": {
      "model_module": "@jupyter-widgets/controls",
      "model_module_version": "1.5.0",
      "model_name": "VBoxModel",
      "state": {
       "_dom_classes": [
        "widget-interact"
       ],
       "children": [
        "IPY_MODEL_93ece0bb3baf4181a472d67ddd7b8ec1",
        "IPY_MODEL_00fe51cbe71246adbbc7ae2d925e9519",
        "IPY_MODEL_da213418acf146c99c47c3d1a1b53e27",
        "IPY_MODEL_bc5b87a2f37b40c8a0fede89c9f767b2",
        "IPY_MODEL_34faf453d2a440dd80031f1d8eda3b33"
       ],
       "layout": "IPY_MODEL_a50aba7066ea4178b5584deb5946914b"
      }
     },
     "415a5c3047164cd58093e248dc251961": {
      "model_module": "@jupyter-widgets/base",
      "model_module_version": "1.2.0",
      "model_name": "LayoutModel",
      "state": {}
     },
     "415cbdb1b554446eabca080224ddcdf7": {
      "model_module": "@jupyter-widgets/controls",
      "model_module_version": "1.5.0",
      "model_name": "FloatSliderModel",
      "state": {
       "description": "T_hs_out",
       "layout": "IPY_MODEL_bb980c4640de41d68347675cc1b8238a",
       "max": 25,
       "min": 1,
       "step": 0.5,
       "style": "IPY_MODEL_5b53f598f28e480392c5e0a836de6266",
       "value": 13
      }
     },
     "45fb546a48b14984ae8f03c5093c3ebe": {
      "model_module": "@jupyter-widgets/controls",
      "model_module_version": "1.5.0",
      "model_name": "VBoxModel",
      "state": {
       "_dom_classes": [
        "widget-interact"
       ],
       "children": [
        "IPY_MODEL_e2e91d881c5b427d93803584a7fe6244",
        "IPY_MODEL_0f04e431d04e4cf481f1fc55e20f2824",
        "IPY_MODEL_770722fb963447478e6ea06cd0398488",
        "IPY_MODEL_3ddff4b64f384279a1f50db7f5162821",
        "IPY_MODEL_6bfa6952659242a08c7771368e8be8f9"
       ],
       "layout": "IPY_MODEL_934ea37a89f94617ab71ee19f33bb877"
      }
     },
     "466a7dddd93b441ba68ddcf5e943e950": {
      "model_module": "@jupyter-widgets/base",
      "model_module_version": "1.2.0",
      "model_name": "LayoutModel",
      "state": {}
     },
     "479730ffffbc409e920bd20dc5eab2e1": {
      "model_module": "@jupyter-widgets/base",
      "model_module_version": "1.2.0",
      "model_name": "LayoutModel",
      "state": {}
     },
     "47d1d91630a34dd4b17eca40b0202452": {
      "model_module": "@jupyter-widgets/base",
      "model_module_version": "1.2.0",
      "model_name": "LayoutModel",
      "state": {}
     },
     "487796569f2f4ede8dd2bc84b712aead": {
      "model_module": "@jupyter-widgets/controls",
      "model_module_version": "1.5.0",
      "model_name": "VBoxModel",
      "state": {
       "_dom_classes": [
        "widget-interact"
       ],
       "children": [
        "IPY_MODEL_df00b395e45e4a5faad91c0ca97287f3",
        "IPY_MODEL_7c51b480e1d84c2aa70f0464be417cef",
        "IPY_MODEL_e3fee7ac773345f09350ad64818cdfd3",
        "IPY_MODEL_9f9100d5e688483f88ac96b26663e8be",
        "IPY_MODEL_9bab759747a64f1b8409aa5729500a7a"
       ],
       "layout": "IPY_MODEL_466a7dddd93b441ba68ddcf5e943e950"
      }
     },
     "4d21c96ae2824b8cbaf2cab304ac7d92": {
      "model_module": "@jupyter-widgets/base",
      "model_module_version": "1.2.0",
      "model_name": "LayoutModel",
      "state": {}
     },
     "4f27fd87f1c74dd6bba2f02ceab16597": {
      "model_module": "@jupyter-widgets/controls",
      "model_module_version": "1.5.0",
      "model_name": "SliderStyleModel",
      "state": {
       "description_width": ""
      }
     },
     "5406b5c3177041598f2581f9bb53321c": {
      "model_module": "@jupyter-widgets/base",
      "model_module_version": "1.2.0",
      "model_name": "LayoutModel",
      "state": {}
     },
     "566ae4bed9954e51a546cc40a51b4686": {
      "model_module": "@jupyter-widgets/base",
      "model_module_version": "1.2.0",
      "model_name": "LayoutModel",
      "state": {}
     },
     "5b53f598f28e480392c5e0a836de6266": {
      "model_module": "@jupyter-widgets/controls",
      "model_module_version": "1.5.0",
      "model_name": "SliderStyleModel",
      "state": {
       "description_width": ""
      }
     },
     "5b7d4535b4aa4d48a99cd01f48545f77": {
      "model_module": "@jupyter-widgets/controls",
      "model_module_version": "1.5.0",
      "model_name": "SliderStyleModel",
      "state": {
       "description_width": ""
      }
     },
     "5c187e0d55b04eebae47faae483cf989": {
      "model_module": "@jupyter-widgets/base",
      "model_module_version": "1.2.0",
      "model_name": "LayoutModel",
      "state": {}
     },
     "61f2312c9257487897b334cf356db644": {
      "model_module": "@jupyter-widgets/controls",
      "model_module_version": "1.5.0",
      "model_name": "SliderStyleModel",
      "state": {
       "description_width": ""
      }
     },
     "65c79a698abf4aca949468a96989d166": {
      "model_module": "@jupyter-widgets/base",
      "model_module_version": "1.2.0",
      "model_name": "LayoutModel",
      "state": {}
     },
     "672e9d1c7e6b49709dd8acef95eab6bd": {
      "model_module": "@jupyter-widgets/base",
      "model_module_version": "1.2.0",
      "model_name": "LayoutModel",
      "state": {}
     },
     "6bfa6952659242a08c7771368e8be8f9": {
      "model_module": "@jupyter-widgets/output",
      "model_module_version": "1.0.0",
      "model_name": "OutputModel",
      "state": {
       "layout": "IPY_MODEL_1947878e2a3b49bab33ee3e755c7d7f3",
       "outputs": [
        {
         "data": {
          "image/png": "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\n",
          "text/plain": "<Figure size 432x288 with 2 Axes>"
         },
         "metadata": {
          "needs_background": "light"
         },
         "output_type": "display_data"
        }
       ]
      }
     },
     "770722fb963447478e6ea06cd0398488": {
      "model_module": "@jupyter-widgets/controls",
      "model_module_version": "1.5.0",
      "model_name": "FloatSliderModel",
      "state": {
       "description": "T_f_in",
       "layout": "IPY_MODEL_566ae4bed9954e51a546cc40a51b4686",
       "max": 24,
       "min": 1,
       "step": 0.5,
       "style": "IPY_MODEL_d8f3d0f00f584204a537915856c99ffa",
       "value": 12
      }
     },
     "7926a09ac4d14fb7b9e9fb0fb550d22b": {
      "model_module": "@jupyter-widgets/controls",
      "model_module_version": "1.5.0",
      "model_name": "SliderStyleModel",
      "state": {
       "description_width": ""
      }
     },
     "79f87d4d0a8944f1a994af358ef0d3b8": {
      "model_module": "@jupyter-widgets/controls",
      "model_module_version": "1.5.0",
      "model_name": "VBoxModel",
      "state": {
       "_dom_classes": [
        "widget-interact"
       ],
       "children": [
        "IPY_MODEL_e95040cf8e6f4ef59be0f7e1965155fb",
        "IPY_MODEL_3fdd0c3628494b7ab05b3b30f6dfc72a",
        "IPY_MODEL_8e0380b1a6624e3784833e91e2e57706",
        "IPY_MODEL_8e4cc413fdab40aea5d29cc60f62fad0",
        "IPY_MODEL_c994b839338a481083bc32911c476f72"
       ],
       "layout": "IPY_MODEL_7cb4d1cc649c4f62b0aa0647a35cbe9b"
      }
     },
     "7c51b480e1d84c2aa70f0464be417cef": {
      "model_module": "@jupyter-widgets/controls",
      "model_module_version": "1.5.0",
      "model_name": "FloatSliderModel",
      "state": {
       "description": "T_hs_out",
       "layout": "IPY_MODEL_28023a0f1922453eb6ede9d851cfd81b",
       "max": 25,
       "min": 1,
       "step": 0.5,
       "style": "IPY_MODEL_a2472398e17543a583fe0692ea40f439",
       "value": 13
      }
     },
     "7cb4d1cc649c4f62b0aa0647a35cbe9b": {
      "model_module": "@jupyter-widgets/base",
      "model_module_version": "1.2.0",
      "model_name": "LayoutModel",
      "state": {}
     },
     "7d987acac8cc4a4d924aa3cbfd710409": {
      "model_module": "@jupyter-widgets/base",
      "model_module_version": "1.2.0",
      "model_name": "LayoutModel",
      "state": {}
     },
     "812d463797cf4a4b8d46f3de7576c6f7": {
      "model_module": "@jupyter-widgets/controls",
      "model_module_version": "1.5.0",
      "model_name": "FloatSliderModel",
      "state": {
       "description": "T_f_in",
       "layout": "IPY_MODEL_4d21c96ae2824b8cbaf2cab304ac7d92",
       "max": 24,
       "min": 1,
       "step": 0.5,
       "style": "IPY_MODEL_9121c2df50d142bebc25da784bfbaa84",
       "value": 12
      }
     },
     "875ea622672f42dd942e698e20c34c6d": {
      "model_module": "@jupyter-widgets/controls",
      "model_module_version": "1.5.0",
      "model_name": "SliderStyleModel",
      "state": {
       "description_width": ""
      }
     },
     "8e0380b1a6624e3784833e91e2e57706": {
      "model_module": "@jupyter-widgets/controls",
      "model_module_version": "1.5.0",
      "model_name": "FloatSliderModel",
      "state": {
       "description": "T_f_in",
       "layout": "IPY_MODEL_203f855762ef45f6b3b3ed220420b804",
       "max": 24,
       "min": 1,
       "step": 0.5,
       "style": "IPY_MODEL_e5b739531e094c7897adf665365ad985",
       "value": 12
      }
     },
     "8e4cc413fdab40aea5d29cc60f62fad0": {
      "model_module": "@jupyter-widgets/controls",
      "model_module_version": "1.5.0",
      "model_name": "FloatSliderModel",
      "state": {
       "description": "T_f_out",
       "layout": "IPY_MODEL_983c2a61c139420286a35a5f359b75b6",
       "max": 23,
       "min": 1,
       "step": 0.5,
       "style": "IPY_MODEL_7926a09ac4d14fb7b9e9fb0fb550d22b",
       "value": 21
      }
     },
     "9121c2df50d142bebc25da784bfbaa84": {
      "model_module": "@jupyter-widgets/controls",
      "model_module_version": "1.5.0",
      "model_name": "SliderStyleModel",
      "state": {
       "description_width": ""
      }
     },
     "934ea37a89f94617ab71ee19f33bb877": {
      "model_module": "@jupyter-widgets/base",
      "model_module_version": "1.2.0",
      "model_name": "LayoutModel",
      "state": {}
     },
     "93ece0bb3baf4181a472d67ddd7b8ec1": {
      "model_module": "@jupyter-widgets/controls",
      "model_module_version": "1.5.0",
      "model_name": "FloatSliderModel",
      "state": {
       "description": "T_hs_in",
       "layout": "IPY_MODEL_ce5d92456ac84944bafba4d1a0f1a454",
       "max": 26,
       "min": 1,
       "step": 0.5,
       "style": "IPY_MODEL_ace37f575ac54474b5ecab11894bd2e5",
       "value": 26
      }
     },
     "946a00b55966485c97c3ebdfca253a25": {
      "model_module": "@jupyter-widgets/controls",
      "model_module_version": "1.5.0",
      "model_name": "SliderStyleModel",
      "state": {
       "description_width": ""
      }
     },
     "983c2a61c139420286a35a5f359b75b6": {
      "model_module": "@jupyter-widgets/base",
      "model_module_version": "1.2.0",
      "model_name": "LayoutModel",
      "state": {}
     },
     "9bab759747a64f1b8409aa5729500a7a": {
      "model_module": "@jupyter-widgets/output",
      "model_module_version": "1.0.0",
      "model_name": "OutputModel",
      "state": {
       "layout": "IPY_MODEL_a510b60009564b80b4b6e49e8323fe4e"
      }
     },
     "9f9100d5e688483f88ac96b26663e8be": {
      "model_module": "@jupyter-widgets/controls",
      "model_module_version": "1.5.0",
      "model_name": "FloatSliderModel",
      "state": {
       "description": "T_f_out",
       "layout": "IPY_MODEL_7d987acac8cc4a4d924aa3cbfd710409",
       "max": 23,
       "min": 1,
       "step": 0.5,
       "style": "IPY_MODEL_a3b76bd9ef1a48fd9f357bfd31b3323e",
       "value": 12
      }
     },
     "9fad47a6a54e4d67a50291710e15e9e9": {
      "model_module": "@jupyter-widgets/controls",
      "model_module_version": "1.5.0",
      "model_name": "SliderStyleModel",
      "state": {
       "description_width": ""
      }
     },
     "a2472398e17543a583fe0692ea40f439": {
      "model_module": "@jupyter-widgets/controls",
      "model_module_version": "1.5.0",
      "model_name": "SliderStyleModel",
      "state": {
       "description_width": ""
      }
     },
     "a3b76bd9ef1a48fd9f357bfd31b3323e": {
      "model_module": "@jupyter-widgets/controls",
      "model_module_version": "1.5.0",
      "model_name": "SliderStyleModel",
      "state": {
       "description_width": ""
      }
     },
     "a50aba7066ea4178b5584deb5946914b": {
      "model_module": "@jupyter-widgets/base",
      "model_module_version": "1.2.0",
      "model_name": "LayoutModel",
      "state": {}
     },
     "a510b60009564b80b4b6e49e8323fe4e": {
      "model_module": "@jupyter-widgets/base",
      "model_module_version": "1.2.0",
      "model_name": "LayoutModel",
      "state": {}
     },
     "ace37f575ac54474b5ecab11894bd2e5": {
      "model_module": "@jupyter-widgets/controls",
      "model_module_version": "1.5.0",
      "model_name": "SliderStyleModel",
      "state": {
       "description_width": ""
      }
     },
     "ad0a35f4004647f3a9e2dd8b58563d33": {
      "model_module": "@jupyter-widgets/controls",
      "model_module_version": "1.5.0",
      "model_name": "SliderStyleModel",
      "state": {
       "description_width": ""
      }
     },
     "af80a3aeddc14e0284f89184c65a9576": {
      "model_module": "@jupyter-widgets/output",
      "model_module_version": "1.0.0",
      "model_name": "OutputModel",
      "state": {
       "layout": "IPY_MODEL_fbae30503ac640b692b6275e8973373a"
      }
     },
     "b1662728d60a451fb4ac5034a8b8eb2d": {
      "model_module": "@jupyter-widgets/controls",
      "model_module_version": "1.5.0",
      "model_name": "FloatSliderModel",
      "state": {
       "description": "T_f_out",
       "layout": "IPY_MODEL_f90326a86f534f0398aa1ed1234abdcd",
       "max": 23,
       "min": 1,
       "step": 0.5,
       "style": "IPY_MODEL_ad0a35f4004647f3a9e2dd8b58563d33",
       "value": 12
      }
     },
     "bb8aa7f0fcfe4017826cbad442a07d11": {
      "model_module": "@jupyter-widgets/base",
      "model_module_version": "1.2.0",
      "model_name": "LayoutModel",
      "state": {}
     },
     "bb980c4640de41d68347675cc1b8238a": {
      "model_module": "@jupyter-widgets/base",
      "model_module_version": "1.2.0",
      "model_name": "LayoutModel",
      "state": {}
     },
     "bc1646f6f25347949c8399312ba765f6": {
      "model_module": "@jupyter-widgets/controls",
      "model_module_version": "1.5.0",
      "model_name": "FloatSliderModel",
      "state": {
       "description": "T_hs_in",
       "layout": "IPY_MODEL_47d1d91630a34dd4b17eca40b0202452",
       "max": 26,
       "min": 1,
       "step": 0.5,
       "style": "IPY_MODEL_010a66942b154a26ad83a7a561a8e6e6",
       "value": 13
      }
     },
     "bc5b87a2f37b40c8a0fede89c9f767b2": {
      "model_module": "@jupyter-widgets/controls",
      "model_module_version": "1.5.0",
      "model_name": "FloatSliderModel",
      "state": {
       "description": "T_f_out",
       "layout": "IPY_MODEL_bb8aa7f0fcfe4017826cbad442a07d11",
       "max": 23,
       "min": 1,
       "step": 0.5,
       "style": "IPY_MODEL_946a00b55966485c97c3ebdfca253a25",
       "value": 21
      }
     },
     "c6ad25492d73468195064b63415c79d4": {
      "model_module": "@jupyter-widgets/controls",
      "model_module_version": "1.5.0",
      "model_name": "SliderStyleModel",
      "state": {
       "description_width": ""
      }
     },
     "c994b839338a481083bc32911c476f72": {
      "model_module": "@jupyter-widgets/output",
      "model_module_version": "1.0.0",
      "model_name": "OutputModel",
      "state": {
       "layout": "IPY_MODEL_d81fd7d1bf6a4638b6efb36751cdc8c5",
       "outputs": [
        {
         "data": {
          "image/png": "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\n",
          "text/plain": "<Figure size 432x288 with 2 Axes>"
         },
         "metadata": {
          "needs_background": "light"
         },
         "output_type": "display_data"
        }
       ]
      }
     },
     "ce5d92456ac84944bafba4d1a0f1a454": {
      "model_module": "@jupyter-widgets/base",
      "model_module_version": "1.2.0",
      "model_name": "LayoutModel",
      "state": {}
     },
     "d81fd7d1bf6a4638b6efb36751cdc8c5": {
      "model_module": "@jupyter-widgets/base",
      "model_module_version": "1.2.0",
      "model_name": "LayoutModel",
      "state": {}
     },
     "d8e06f72fa8a48c69da3b1b684d24e8c": {
      "model_module": "@jupyter-widgets/base",
      "model_module_version": "1.2.0",
      "model_name": "LayoutModel",
      "state": {}
     },
     "d8f3d0f00f584204a537915856c99ffa": {
      "model_module": "@jupyter-widgets/controls",
      "model_module_version": "1.5.0",
      "model_name": "SliderStyleModel",
      "state": {
       "description_width": ""
      }
     },
     "da213418acf146c99c47c3d1a1b53e27": {
      "model_module": "@jupyter-widgets/controls",
      "model_module_version": "1.5.0",
      "model_name": "FloatSliderModel",
      "state": {
       "description": "T_f_in",
       "layout": "IPY_MODEL_28cbd1447c2d45b387f2e531e219f500",
       "max": 24,
       "min": 1,
       "step": 0.5,
       "style": "IPY_MODEL_61f2312c9257487897b334cf356db644",
       "value": 12
      }
     },
     "df00b395e45e4a5faad91c0ca97287f3": {
      "model_module": "@jupyter-widgets/controls",
      "model_module_version": "1.5.0",
      "model_name": "FloatSliderModel",
      "state": {
       "description": "T_hs_in",
       "layout": "IPY_MODEL_2b6c48e154a64050a8883b3aedea0a94",
       "max": 26,
       "min": 1,
       "step": 0.5,
       "style": "IPY_MODEL_1c383c6eebe346f9987bc4c8e1ddd9f7",
       "value": 13
      }
     },
     "e2e91d881c5b427d93803584a7fe6244": {
      "model_module": "@jupyter-widgets/controls",
      "model_module_version": "1.5.0",
      "model_name": "FloatSliderModel",
      "state": {
       "description": "T_hs_in",
       "layout": "IPY_MODEL_3a001a6f850240569e84a88b0fc73f05",
       "max": 26,
       "min": 1,
       "step": 0.5,
       "style": "IPY_MODEL_5b7d4535b4aa4d48a99cd01f48545f77",
       "value": 26
      }
     },
     "e3e261f3378343dd964075f11f74c088": {
      "model_module": "@jupyter-widgets/controls",
      "model_module_version": "1.5.0",
      "model_name": "SliderStyleModel",
      "state": {
       "description_width": ""
      }
     },
     "e3fee7ac773345f09350ad64818cdfd3": {
      "model_module": "@jupyter-widgets/controls",
      "model_module_version": "1.5.0",
      "model_name": "FloatSliderModel",
      "state": {
       "description": "T_f_in",
       "layout": "IPY_MODEL_479730ffffbc409e920bd20dc5eab2e1",
       "max": 24,
       "min": 1,
       "step": 0.5,
       "style": "IPY_MODEL_9fad47a6a54e4d67a50291710e15e9e9",
       "value": 12
      }
     },
     "e5b739531e094c7897adf665365ad985": {
      "model_module": "@jupyter-widgets/controls",
      "model_module_version": "1.5.0",
      "model_name": "SliderStyleModel",
      "state": {
       "description_width": ""
      }
     },
     "e95040cf8e6f4ef59be0f7e1965155fb": {
      "model_module": "@jupyter-widgets/controls",
      "model_module_version": "1.5.0",
      "model_name": "FloatSliderModel",
      "state": {
       "description": "T_hs_in",
       "layout": "IPY_MODEL_5c187e0d55b04eebae47faae483cf989",
       "max": 26,
       "min": 1,
       "step": 0.5,
       "style": "IPY_MODEL_e3e261f3378343dd964075f11f74c088",
       "value": 26
      }
     },
     "e9f3627c9ecb4c14b5925960cc8a96f5": {
      "model_module": "@jupyter-widgets/controls",
      "model_module_version": "1.5.0",
      "model_name": "VBoxModel",
      "state": {
       "_dom_classes": [
        "widget-interact"
       ],
       "children": [
        "IPY_MODEL_bc1646f6f25347949c8399312ba765f6",
        "IPY_MODEL_415cbdb1b554446eabca080224ddcdf7",
        "IPY_MODEL_812d463797cf4a4b8d46f3de7576c6f7",
        "IPY_MODEL_b1662728d60a451fb4ac5034a8b8eb2d",
        "IPY_MODEL_af80a3aeddc14e0284f89184c65a9576"
       ],
       "layout": "IPY_MODEL_5406b5c3177041598f2581f9bb53321c"
      }
     },
     "f90326a86f534f0398aa1ed1234abdcd": {
      "model_module": "@jupyter-widgets/base",
      "model_module_version": "1.2.0",
      "model_name": "LayoutModel",
      "state": {}
     },
     "fbae30503ac640b692b6275e8973373a": {
      "model_module": "@jupyter-widgets/base",
      "model_module_version": "1.2.0",
      "model_name": "LayoutModel",
      "state": {}
     }
    },
    "version_major": 2,
    "version_minor": 0
   }
  }
 },
 "nbformat": 4,
 "nbformat_minor": 2
}
